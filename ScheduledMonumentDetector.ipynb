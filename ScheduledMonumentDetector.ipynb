{
 "cells": [
  {
   "cell_type": "code",
   "execution_count": 1,
   "id": "b281cd42",
   "metadata": {},
   "outputs": [],
   "source": [
    "# Read data from DataMapWales\n",
    "from owslib.wms import WebMapService\n",
    "\n",
    "# Standard Imports\n",
    "import os\n",
    "import numpy as np\n",
    "import pandas as pd\n",
    "import geopandas as gpd\n",
    "import matplotlib.pyplot as plt"
   ]
  },
  {
   "cell_type": "code",
   "execution_count": 47,
   "id": "07c2a255",
   "metadata": {},
   "outputs": [],
   "source": [
    "def fetch_wms_data(wms_url, bbox, width, height, srs=\"EPSG:4326\", format=\"image/png\", version=\"1.3.0\"):\n",
    "    \"\"\"\n",
    "    Fetches map data from a WMS endpoint.\n",
    "\n",
    "    Parameters:\n",
    "        wms_url (str): The URL of the WMS endpoint.\n",
    "        bbox (tuple): The bounding box (minx, miny, maxx, maxy) for the request.\n",
    "        size (tuple): The width and height (respectively) of the requested image in pixels.\n",
    "        srs (str): The spatial reference system (default is \"EPSG:4326\").\n",
    "        format (str): The format of the returned image (default is \"image/png\").\n",
    "        version (str): The WMS version to use (default is \"1.3.0\").\n",
    "\n",
    "    Returns:\n",
    "        bytes: The raw image data returned by the WMS service.\n",
    "    \"\"\"\n",
    "    try:\n",
    "        def get_response(layer_name):\n",
    "            # Fetch the map data\n",
    "            print(f\"Fetching layer: {layer_name}\")\n",
    "            response = wms.getmap(\n",
    "                layers=[layer_name],\n",
    "                srs=srs,\n",
    "                bbox=bbox,\n",
    "                size=(width, height),\n",
    "                format=format,\n",
    "                transparent=True\n",
    "            )\n",
    "            return response.read()\n",
    "        \n",
    "        # Initialize the WMS service\n",
    "        wms = WebMapService(wms_url, version=version)\n",
    "\n",
    "        layers = list(wms.contents)\n",
    "        \n",
    "        # Check contents of the WMS service\n",
    "        print(\"Available Layers: \", layers)\n",
    "        \n",
    "        if len(layers) == 0:\n",
    "            print(\"No layers available in the WMS service.\")\n",
    "            return None\n",
    "        elif len(layers) == 1:\n",
    "            layer_name = layers[0]\n",
    "            return get_response(layer_name)\n",
    "        elif len(layers) > 1:\n",
    "            response_list = []\n",
    "            for layer in layers:\n",
    "                response_list.append(get_response(layer))\n",
    "            return response_list\n",
    "        else: \n",
    "            print(\"An unexpected error occurred: No layers found.\")\n",
    "            return None\n",
    "        \n",
    "    except Exception as e:\n",
    "        print(f\"An error occurred while fetching WMS data: {e}\")\n",
    "        return None\n",
    "        \n",
    "def save_image(byte_data):\n",
    "    \"\"\" Takes output from fetch_wms_data and saves it to a file \"\"\"\n",
    "    if len(byte_data) == 1:\n",
    "        out = open(f'output0.png', 'wb')\n",
    "        out.write(byte_data)\n",
    "        out.close()\n",
    "    else:\n",
    "        for i, img in enumerate(byte_data):\n",
    "            out = open(f'output{i}.png', 'wb')\n",
    "            out.write(img)\n",
    "            out.close()"
   ]
  },
  {
   "cell_type": "code",
   "execution_count": 48,
   "id": "cd27a48b",
   "metadata": {},
   "outputs": [
    {
     "name": "stdout",
     "output_type": "stream",
     "text": [
      "Available Layers:  ['geonode:wales_lidar_dsm_1m_hillshade_multi_cog', 'inspire-wg:Cadw_SAM', 'inspire-nrw:NRW_SSSI']\n",
      "Fetching layer: geonode:wales_lidar_dsm_1m_hillshade_multi_cog\n",
      "Fetching layer: inspire-wg:Cadw_SAM\n",
      "Fetching layer: inspire-nrw:NRW_SSSI\n"
     ]
    }
   ],
   "source": [
    "wms_url = \"https://datamap.gov.wales/capabilities/map/scheduled-monuments-and-sssi/?ows_service=wms\"\n",
    "output = fetch_wms_data(wms_url, bbox = (-4.5, 51.5, -3.5, 52), width = 800, height = 600)\n",
    "save_image(output)"
   ]
  }
 ],
 "metadata": {
  "kernelspec": {
   "display_name": "DataSci",
   "language": "python",
   "name": "python3"
  },
  "language_info": {
   "codemirror_mode": {
    "name": "ipython",
    "version": 3
   },
   "file_extension": ".py",
   "mimetype": "text/x-python",
   "name": "python",
   "nbconvert_exporter": "python",
   "pygments_lexer": "ipython3",
   "version": "3.11.11"
  }
 },
 "nbformat": 4,
 "nbformat_minor": 5
}
